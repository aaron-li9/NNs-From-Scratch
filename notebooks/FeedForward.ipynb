{
 "cells": [
  {
   "cell_type": "code",
   "execution_count": null,
   "id": "0",
   "metadata": {},
   "outputs": [],
   "source": [
    "import numpy as np\n",
    "import pandas as pd"
   ]
  },
  {
   "cell_type": "code",
   "execution_count": null,
   "id": "1",
   "metadata": {},
   "outputs": [],
   "source": [
    "data = pd.read_csv(\"../data/MNIST/train.csv\")\n",
    "data.head()"
   ]
  },
  {
   "cell_type": "code",
   "execution_count": null,
   "id": "2",
   "metadata": {},
   "outputs": [],
   "source": [
    "data = np.array(data)\n",
    "np.random.shuffle(data)\n",
    "print(data.shape)"
   ]
  },
  {
   "cell_type": "code",
   "execution_count": null,
   "id": "3",
   "metadata": {},
   "outputs": [],
   "source": [
    "def relu(x):\n",
    "    return np.maximum(0, x)"
   ]
  },
  {
   "cell_type": "code",
   "execution_count": null,
   "id": "4",
   "metadata": {},
   "outputs": [],
   "source": [
    "def sigmoid(x):\n",
    "    return 1 / (1 + np.exp(-x))"
   ]
  },
  {
   "cell_type": "code",
   "execution_count": null,
   "id": "5",
   "metadata": {},
   "outputs": [],
   "source": [
    "def softmax(x):\n",
    "    exp_x = np.exp(x - np.max(x, axis=-1, keepdims=True))\n",
    "    probabilities = exp_x / np.sum(exp_x, axis=-1, keepdims=True)\n",
    "    return probabilities"
   ]
  },
  {
   "cell_type": "code",
   "execution_count": null,
   "id": "6",
   "metadata": {},
   "outputs": [],
   "source": [
    "n_examples, n_pixels = data.shape\n",
    "print(n_examples, n_pixels)\n",
    "validation_set_size = 2000\n",
    "data_validation = data[0:validation_set_size].T\n",
    "y_valid = data_validation[0]\n",
    "print(y_valid.shape)\n",
    "x_valid = data_validation[1:]\n",
    "print(x_valid.shape)\n",
    "data_train = data[validation_set_size:].T\n",
    "y_train = data_train[0]\n",
    "print(y_train.shape)\n",
    "x_train = data_train[1:]\n",
    "print(x_train.shape)"
   ]
  },
  {
   "cell_type": "code",
   "execution_count": null,
   "id": "7",
   "metadata": {},
   "outputs": [],
   "source": [
    "m, n = x_train.shape\n",
    "print(m, n)"
   ]
  },
  {
   "cell_type": "code",
   "execution_count": null,
   "id": "8",
   "metadata": {},
   "outputs": [],
   "source": [
    "input_neurons = m\n",
    "hidden_1_neurons = 16\n",
    "hidden_2_neurons = 16\n",
    "output_neurons = 10\n",
    "def init_parameters():\n",
    "    w1 = np.random.rand(hidden_1_neurons, input_neurons)\n",
    "    w2 = np.random.rand(hidden_2_neurons, hidden_1_neurons)\n",
    "    w3 = np.random.rand(output_neurons, hidden_2_neurons)\n",
    "    b1 = np.random.rand(hidden_1_neurons, 1)\n",
    "    b2 = np.random.rand(hidden_2_neurons, 1)\n",
    "    b3 = np.random.rand(output_neurons, 1)\n",
    "    return w1, w2, w3, b1, b2, b3"
   ]
  },
  {
   "cell_type": "code",
   "execution_count": null,
   "id": "9",
   "metadata": {},
   "outputs": [],
   "source": [
    "w1, w2, w3, b1, b2, b3 = init_parameters()\n",
    "print(w_1.shape)\n",
    "print(w_2.shape)\n",
    "print(w_3.shape)\n",
    "print(b_1.shape)\n",
    "print(b_2.shape)\n",
    "print(b_3.shape)"
   ]
  },
  {
   "cell_type": "code",
   "execution_count": null,
   "id": "10",
   "metadata": {},
   "outputs": [],
   "source": [
    "def forward_pass(x, w1, w2, w3, b1, b2, b3):\n",
    "    z_1 = w1 @ x + b1\n",
    "    A_1 = relu(z_1)\n",
    "    z_2 = w2 @ z_1 + b2\n",
    "    A_2 = relu(z_2)\n",
    "    z_3 = w3 @ z_2 + b3\n",
    "    A_3 = softmax(z_3)\n",
    "    return z_1, A_1, z_2, A_2, z_3, A_3"
   ]
  },
  {
   "cell_type": "code",
   "execution_count": null,
   "id": "11",
   "metadata": {},
   "outputs": [],
   "source": [
    "z_1, A_1, z_2, A_2, z_3, A_3 = forward_pass(x_train, w1, w2, w3, b1, b2, b3)\n",
    "print(A_3.shape)\n",
    "print(A_3[:,2])"
   ]
  },
  {
   "cell_type": "code",
   "execution_count": null,
   "id": "12",
   "metadata": {},
   "outputs": [],
   "source": []
  }
 ],
 "metadata": {
  "kernelspec": {
   "display_name": "Python 3 (ipykernel)",
   "language": "python",
   "name": "python3"
  },
  "language_info": {
   "codemirror_mode": {
    "name": "ipython",
    "version": 3
   },
   "file_extension": ".py",
   "mimetype": "text/x-python",
   "name": "python",
   "nbconvert_exporter": "python",
   "pygments_lexer": "ipython3",
   "version": "3.8.19"
  }
 },
 "nbformat": 4,
 "nbformat_minor": 5
}
